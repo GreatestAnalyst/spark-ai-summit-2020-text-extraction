{
 "cells": [
  {
   "cell_type": "code",
   "execution_count": 1,
   "metadata": {},
   "outputs": [
    {
     "name": "stderr",
     "output_type": "stream",
     "text": [
      "/libs/base/h5py/__init__.py:36: FutureWarning: Conversion of the second argument of issubdtype from `float` to `np.floating` is deprecated. In future, it will be treated as `np.float64 == np.dtype(float).type`.\n",
      "  from ._conv import register_converters as _register_converters\n",
      "Using TensorFlow backend.\n"
     ]
    }
   ],
   "source": [
    "import os\n",
    "import tensorflow as tf\n",
    "os.environ['TF_CPP_MIN_LOG_LEVEL'] = '3'\n",
    "\n",
    "from PIL import Image\n",
    "import numpy as np\n",
    "import cv2\n",
    "\n",
    "import keras.backend as K\n",
    "from keras.preprocessing.sequence import pad_sequences\n",
    "from keras.models import load_model\n",
    "\n",
    "config = tf.ConfigProto()\n",
    "config.gpu_options.allow_growth=True\n",
    "sess = tf.Session(config=config)\n",
    "keras_sess = K.set_session(sess)"
   ]
  },
  {
   "cell_type": "code",
   "execution_count": 2,
   "metadata": {},
   "outputs": [],
   "source": [
    "## Init function\n",
    "## Define various utility functions\n",
    "\n",
    "def pre_process_image(path):\n",
    "    img = cv2.cvtColor(cv2.imread(path), cv2.COLOR_BGR2GRAY)\n",
    "    ### actually returns h, w\n",
    "    h, w = img.shape\n",
    "\n",
    "    ### if height less than 32\n",
    "    if h < 32:\n",
    "        add_zeros = np.ones((32-h, w)) * 255\n",
    "        img = np.concatenate((img, add_zeros))\n",
    "        h = 32\n",
    "\n",
    "    ## if width less than 128\n",
    "    if w < 128:\n",
    "        add_zeros = np.ones((h, 128-w)) * 255\n",
    "        img = np.concatenate((img, add_zeros), axis=1)\n",
    "        w = 128\n",
    "\n",
    "    ### if width is greater than 128 or height greater than 32\n",
    "    if w > 128 or h > 32:\n",
    "        img = cv2.resize(img, (128, 32))\n",
    "\n",
    "    \n",
    "    img = np.expand_dims(img , axis = 2)\n",
    "\n",
    "    # Normalize each image\n",
    "    img = img / 255.\n",
    "    \n",
    "    return img"
   ]
  },
  {
   "cell_type": "code",
   "execution_count": 3,
   "metadata": {},
   "outputs": [],
   "source": [
    "def predict_text(images):\n",
    "    '''\n",
    "    crnn model prediction\n",
    "    '''\n",
    "    # predict outputs on validation images\n",
    "    \n",
    "    predictions = model_tr.predict(np.array(images), batch_size=512, verbose=1)\n",
    "    \n",
    "    # use CTC decoder\n",
    "    out = K.get_value(K.ctc_decode(predictions, \n",
    "                                   input_length=np.ones(predictions.shape[0]) * predictions.shape[1],\n",
    "                                   greedy=True)[0][0])\n",
    "    \n",
    "    texts = []\n",
    "\n",
    "    for x in out:\n",
    "\n",
    "        ans = \"\"\n",
    "        for p in x:\n",
    "            if int(p) != -1:\n",
    "                ans += char_list[int(p)]\n",
    "\n",
    "        texts.append(ans)\n",
    "    \n",
    "    return texts\n",
    "\n",
    "\n",
    "vocab =['!', '\"', '#', '$', '%', '&', \"'\", '(', ')', '*', '+', ',', '-', '.', '/', \n",
    "        '0', '1', '2', '3', '4', '5', '6', '7', '8', '9', \n",
    "        ':', ';', '<', '=', '>', '?', '@', \n",
    "        'A', 'B', 'C', 'D', 'E', 'F', 'G', 'H', 'I', 'J', 'K', 'L', 'M', 'N', 'O', 'P', 'Q', 'R', 'S', 'T', 'U', 'V', 'W', 'X', 'Y', 'Z', '\\\\', ']', '_', '`', \n",
    "        'a', 'b', 'c', 'd', 'e', 'f', 'g', 'h', 'i', 'j', 'k', 'l', 'm', 'n', 'o', 'p', 'q', 'r', 's', 't', 'u', 'v', 'w', 'x', 'y', 'z', '{', '|', '}', '~']\n",
    "\n",
    "char_list = sorted(vocab)"
   ]
  },
  {
   "cell_type": "code",
   "execution_count": 4,
   "metadata": {},
   "outputs": [
    {
     "name": "stderr",
     "output_type": "stream",
     "text": [
      "/libs/project/keras/engine/saving.py:292: UserWarning: No training configuration found in save file: the model was *not* compiled. Compile it manually.\n",
      "  warnings.warn('No training configuration found in save file: '\n"
     ]
    }
   ],
   "source": [
    "model_tr = load_model(\"models/mjsynth_best_model.h5\")"
   ]
  },
  {
   "cell_type": "code",
   "execution_count": 5,
   "metadata": {},
   "outputs": [
    {
     "data": {
      "image/png": "[encoded data removed]",
      "text/plain": [
       "<PIL.JpegImagePlugin.JpegImageFile image mode=RGB size=112x32 at 0x7FDF283A15C0>"
      ]
     },
     "execution_count": 5,
     "metadata": {},
     "output_type": "execute_result"
    }
   ],
   "source": [
    "Image.open(\"test_images/1_makes_46197.jpg\")"
   ]
  },
  {
   "cell_type": "code",
   "execution_count": 6,
   "metadata": {},
   "outputs": [
    {
     "name": "stdout",
     "output_type": "stream",
     "text": [
      "1/1 [==============================] - 2s 2s/step\n"
     ]
    },
    {
     "data": {
      "text/plain": [
       "'makes'"
      ]
     },
     "execution_count": 6,
     "metadata": {},
     "output_type": "execute_result"
    }
   ],
   "source": [
    "predict_text([pre_process_image(\"test_images/1_makes_46197.jpg\")])[0]"
   ]
  },
  {
   "cell_type": "code",
   "execution_count": 7,
   "metadata": {},
   "outputs": [
    {
     "data": {
      "image/png": "[encoded data removed]",
      "text/plain": [
       "<PIL.JpegImagePlugin.JpegImageFile image mode=RGB size=94x32 at 0x7FDC72F4E208>"
      ]
     },
     "execution_count": 7,
     "metadata": {},
     "output_type": "execute_result"
    }
   ],
   "source": [
    "Image.open(\"test_images/3_Claimed_13849.jpg\")"
   ]
  },
  {
   "cell_type": "code",
   "execution_count": 8,
   "metadata": {},
   "outputs": [
    {
     "name": "stdout",
     "output_type": "stream",
     "text": [
      "1/1 [==============================] - 0s 5ms/step\n"
     ]
    },
    {
     "data": {
      "text/plain": [
       "'Claimed'"
      ]
     },
     "execution_count": 8,
     "metadata": {},
     "output_type": "execute_result"
    }
   ],
   "source": [
    "predict_text([pre_process_image(\"test_images/3_Claimed_13849.jpg\")])[0]"
   ]
  },
  {
   "cell_type": "code",
   "execution_count": null,
   "metadata": {},
   "outputs": [],
   "source": []
  }
 ],
 "metadata": {
  "kernelspec": {
   "display_name": "Python 3",
   "language": "python",
   "name": "python3"
  },
  "language_info": {
   "codemirror_mode": {
    "name": "ipython",
    "version": 3
   },
   "file_extension": ".py",
   "mimetype": "text/x-python",
   "name": "python",
   "nbconvert_exporter": "python",
   "pygments_lexer": "ipython3",
   "version": "3.6.8"
  }
 },
 "nbformat": 4,
 "nbformat_minor": 4
}
