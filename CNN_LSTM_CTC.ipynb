{
  "nbformat": 4,
  "nbformat_minor": 0,
  "metadata": {
    "kernelspec": {
      "display_name": "Python 3",
      "language": "python",
      "name": "python3"
    },
    "language_info": {
      "codemirror_mode": {
        "name": "ipython",
        "version": 3
      },
      "file_extension": ".py",
      "mimetype": "text/x-python",
      "name": "python",
      "nbconvert_exporter": "python",
      "pygments_lexer": "ipython3",
      "version": "3.6.6"
    },
    "colab": {
      "name": "CNN-LSTM-CTC.ipynb",
      "provenance": [],
      "collapsed_sections": []
    },
    "accelerator": "GPU"
  },
  "cells": [
    {
      "cell_type": "code",
      "metadata": {
        "id": "QSdC-DdnAV55",
        "colab_type": "code",
        "colab": {}
      },
      "source": [
        "import os\n",
        "import cv2\n",
        "import numpy as np\n",
        "import string\n",
        "import time\n",
        "import pandas as pd\n",
        "import tensorflow as tf\n",
        "import matplotlib.pyplot as plt\n",
        "\n",
        "import tensorflow.keras.backend as K\n",
        "from tensorflow.keras.preprocessing.sequence import pad_sequences\n",
        "from tensorflow.keras.utils import multi_gpu_model\n",
        "from tensorflow.keras.layers import Dense, Reshape, BatchNormalization, Input, Conv2D, MaxPool2D, Lambda, Bidirectional\n",
        "\n",
        "from tensorflow.compat.v1.keras.layers import CuDNNLSTM\n",
        "from tensorflow.keras.models import Model\n",
        "from tensorflow.keras.activations import relu, sigmoid, softmax\n",
        "\n",
        "from tensorflow.keras.utils import to_categorical, Sequence\n",
        "from tensorflow.keras.callbacks import ModelCheckpoint\n",
        "from tqdm import tqdm\n",
        "from collections import Counter\n",
        "\n",
        "from PIL import Image"
      ],
      "execution_count": 52,
      "outputs": []
    },
    {
      "cell_type": "code",
      "metadata": {
        "id": "C1xn3J31ZT4y",
        "colab_type": "code",
        "colab": {
          "base_uri": "https://localhost:8080/",
          "height": 34
        },
        "outputId": "841c1d93-6582-453b-8bed-306ebf33bf43"
      },
      "source": [
        "tf.__version__"
      ],
      "execution_count": 24,
      "outputs": [
        {
          "output_type": "execute_result",
          "data": {
            "text/plain": [
              "'2.2.0'"
            ]
          },
          "metadata": {
            "tags": []
          },
          "execution_count": 24
        }
      ]
    },
    {
      "cell_type": "code",
      "metadata": {
        "id": "WLgalMLF6-wQ",
        "colab_type": "code",
        "colab": {
          "base_uri": "https://localhost:8080/",
          "height": 122
        },
        "outputId": "5b05a3ea-3f82-414b-d562-9bcb25a89063"
      },
      "source": [
        "from google.colab import drive\n",
        "drive.mount('/content/drive')"
      ],
      "execution_count": 7,
      "outputs": [
        {
          "output_type": "stream",
          "text": [
            "Go to this URL in a browser: https://accounts.google.com/o/oauth2/auth?client_id=947318989803-6bn6qk8qdgf4n4g3pfee6491hc0brc4i.apps.googleusercontent.com&redirect_uri=urn%3aietf%3awg%3aoauth%3a2.0%3aoob&response_type=code&scope=email%20https%3a%2f%2fwww.googleapis.com%2fauth%2fdocs.test%20https%3a%2f%2fwww.googleapis.com%2fauth%2fdrive%20https%3a%2f%2fwww.googleapis.com%2fauth%2fdrive.photos.readonly%20https%3a%2f%2fwww.googleapis.com%2fauth%2fpeopleapi.readonly\n",
            "\n",
            "Enter your authorization code:\n",
            "··········\n",
            "Mounted at /content/drive\n"
          ],
          "name": "stdout"
        }
      ]
    },
    {
      "cell_type": "code",
      "metadata": {
        "id": "iftiw2LCnSR_",
        "colab_type": "code",
        "colab": {}
      },
      "source": [
        "### get the file from here:\n",
        "### https://github.com/rajesh-bhat/spark-ai-summit-2020-text-extraction/blob/master/mjsynth_sample.zip"
      ],
      "execution_count": null,
      "outputs": []
    },
    {
      "cell_type": "code",
      "metadata": {
        "id": "roZXa3gOnXBR",
        "colab_type": "code",
        "colab": {
          "base_uri": "https://localhost:8080/",
          "height": 204
        },
        "outputId": "66640c77-ee53-403b-97b0-fb115bd38129"
      },
      "source": [
        "!wget https://github.com/rajesh-bhat/spark-ai-summit-2020-text-extraction/blob/master/mjsynth_sample.zip"
      ],
      "execution_count": 72,
      "outputs": [
        {
          "output_type": "stream",
          "text": [
            "--2020-06-25 17:55:09--  https://github.com/rajesh-bhat/spark-ai-summit-2020-text-extraction/blob/master/mjsynth_sample.zip\n",
            "Resolving github.com (github.com)... 140.82.113.4\n",
            "Connecting to github.com (github.com)|140.82.113.4|:443... connected.\n",
            "HTTP request sent, awaiting response... 200 OK\n",
            "Length: unspecified [text/html]\n",
            "Saving to: ‘mjsynth_sample.zip’\n",
            "\n",
            "\rmjsynth_sample.zip      [<=>                 ]       0  --.-KB/s               \rmjsynth_sample.zip      [ <=>                ]  73.81K  --.-KB/s    in 0.03s   \n",
            "\n",
            "2020-06-25 17:55:09 (2.50 MB/s) - ‘mjsynth_sample.zip’ saved [75582]\n",
            "\n"
          ],
          "name": "stdout"
        }
      ]
    },
    {
      "cell_type": "code",
      "metadata": {
        "id": "XxUdYbFnYCbs",
        "colab_type": "code",
        "colab": {}
      },
      "source": [
        "## execute the below command\n",
        "!unzip -qq mjsynth_sample.zip"
      ],
      "execution_count": 8,
      "outputs": []
    },
    {
      "cell_type": "code",
      "metadata": {
        "id": "-l6JCqxQYiDJ",
        "colab_type": "code",
        "colab": {}
      },
      "source": [
        "final_paths = []\n",
        "final_texts = []\n",
        "\n",
        "data_folder = \"mjsynth_sample\"\n",
        "for path in os.listdir(data_folder):\n",
        "\n",
        "\n",
        "    final_paths.append(data_folder + \"/\" + path)\n",
        "    final_texts.append(path.split(\"_\")[1])\n",
        "\n",
        "\n",
        "\n"
      ],
      "execution_count": 10,
      "outputs": []
    },
    {
      "cell_type": "code",
      "metadata": {
        "id": "3hsfDslWY9Te",
        "colab_type": "code",
        "colab": {
          "base_uri": "https://localhost:8080/",
          "height": 357
        },
        "outputId": "27f104ab-47e3-4b03-8410-8417f2200a15"
      },
      "source": [
        "final_paths[:10], final_texts[:10]"
      ],
      "execution_count": 13,
      "outputs": [
        {
          "output_type": "execute_result",
          "data": {
            "text/plain": [
              "(['mjsynth_sample/459_loyalties_45457.jpg',\n",
              "  'mjsynth_sample/377_ratchets_62528.jpg',\n",
              "  'mjsynth_sample/122_RAVAGERS_62620.jpg',\n",
              "  'mjsynth_sample/457_inheritances_39536.jpg',\n",
              "  'mjsynth_sample/106_inactivation_38579.jpg',\n",
              "  'mjsynth_sample/312_MANNA_46540.jpg',\n",
              "  'mjsynth_sample/4_NOISIER_51842.jpg',\n",
              "  'mjsynth_sample/9_loggia_45089.jpg',\n",
              "  'mjsynth_sample/46_NUNKI_52592.jpg',\n",
              "  'mjsynth_sample/34_SUCCULENT_75831.jpg'],\n",
              " ['loyalties',\n",
              "  'ratchets',\n",
              "  'RAVAGERS',\n",
              "  'inheritances',\n",
              "  'inactivation',\n",
              "  'MANNA',\n",
              "  'NOISIER',\n",
              "  'loggia',\n",
              "  'NUNKI',\n",
              "  'SUCCULENT'])"
            ]
          },
          "metadata": {
            "tags": []
          },
          "execution_count": 13
        }
      ]
    },
    {
      "cell_type": "code",
      "metadata": {
        "id": "zU_i-crjAV6P",
        "colab_type": "code",
        "colab": {
          "base_uri": "https://localhost:8080/",
          "height": 54
        },
        "outputId": "e0438dc7-5e97-44a6-d2a4-606360adfc0f"
      },
      "source": [
        "### get vocab from dataset\n",
        "vocab = set(\"\".join(map(str, final_texts)))\n",
        "print(sorted(vocab))"
      ],
      "execution_count": 14,
      "outputs": [
        {
          "output_type": "stream",
          "text": [
            "['0', '1', '2', '3', '4', '5', '6', '7', '8', '9', 'A', 'B', 'C', 'D', 'E', 'F', 'G', 'H', 'I', 'J', 'K', 'L', 'M', 'N', 'O', 'P', 'Q', 'R', 'S', 'T', 'U', 'V', 'W', 'X', 'Y', 'Z', 'a', 'b', 'c', 'd', 'e', 'f', 'g', 'h', 'i', 'j', 'k', 'l', 'm', 'n', 'o', 'p', 'q', 'r', 's', 't', 'u', 'v', 'w', 'x', 'y', 'z']\n"
          ],
          "name": "stdout"
        }
      ]
    },
    {
      "cell_type": "code",
      "metadata": {
        "id": "ELOPjdTaAV6R",
        "colab_type": "code",
        "colab": {
          "base_uri": "https://localhost:8080/",
          "height": 1000
        },
        "outputId": "462c19e8-a35f-4df6-ec22-1c343b6ed94c"
      },
      "source": [
        "Counter(\"\".join(map(str, final_texts)))"
      ],
      "execution_count": 15,
      "outputs": [
        {
          "output_type": "execute_result",
          "data": {
            "text/plain": [
              "Counter({'0': 38,\n",
              "         '1': 56,\n",
              "         '2': 30,\n",
              "         '3': 21,\n",
              "         '4': 26,\n",
              "         '5': 16,\n",
              "         '6': 16,\n",
              "         '7': 15,\n",
              "         '8': 17,\n",
              "         '9': 10,\n",
              "         'A': 12188,\n",
              "         'B': 3874,\n",
              "         'C': 7202,\n",
              "         'D': 6379,\n",
              "         'E': 16729,\n",
              "         'F': 2799,\n",
              "         'G': 4768,\n",
              "         'H': 3898,\n",
              "         'I': 12696,\n",
              "         'J': 518,\n",
              "         'K': 1611,\n",
              "         'L': 7997,\n",
              "         'M': 4745,\n",
              "         'N': 10222,\n",
              "         'O': 8783,\n",
              "         'P': 5178,\n",
              "         'Q': 350,\n",
              "         'R': 11125,\n",
              "         'S': 14094,\n",
              "         'T': 10070,\n",
              "         'U': 4990,\n",
              "         'V': 1787,\n",
              "         'W': 1806,\n",
              "         'X': 428,\n",
              "         'Y': 2289,\n",
              "         'Z': 696,\n",
              "         'a': 21612,\n",
              "         'b': 4718,\n",
              "         'c': 10014,\n",
              "         'd': 9727,\n",
              "         'e': 31936,\n",
              "         'f': 3274,\n",
              "         'g': 8370,\n",
              "         'h': 6096,\n",
              "         'i': 24247,\n",
              "         'j': 453,\n",
              "         'k': 2761,\n",
              "         'l': 14693,\n",
              "         'm': 6928,\n",
              "         'n': 20242,\n",
              "         'o': 17329,\n",
              "         'p': 6905,\n",
              "         'q': 439,\n",
              "         'r': 19957,\n",
              "         's': 23114,\n",
              "         't': 18281,\n",
              "         'u': 9212,\n",
              "         'v': 2718,\n",
              "         'w': 2238,\n",
              "         'x': 818,\n",
              "         'y': 4643,\n",
              "         'z': 1340})"
            ]
          },
          "metadata": {
            "tags": []
          },
          "execution_count": 15
        }
      ]
    },
    {
      "cell_type": "code",
      "metadata": {
        "id": "0HR1CgWxAV6U",
        "colab_type": "code",
        "colab": {}
      },
      "source": [
        "char_list = sorted(vocab)\n",
        "\n",
        "def encode_to_labels(txt):\n",
        "    # encoding each output word into digits\n",
        "    dig_lst = []\n",
        "    \n",
        "    for index, char in enumerate(txt):\n",
        "        try:\n",
        "            dig_lst.append(char_list.index(char))\n",
        "        except:\n",
        "            print(char)\n",
        "        \n",
        "    return dig_lst"
      ],
      "execution_count": 16,
      "outputs": []
    },
    {
      "cell_type": "code",
      "metadata": {
        "id": "WTZyKj1LAV6W",
        "colab_type": "code",
        "colab": {
          "base_uri": "https://localhost:8080/",
          "height": 34
        },
        "outputId": "d60b8772-d0d0-436b-f349-7322f26be244"
      },
      "source": [
        "encode_to_labels(\"HELLO\")"
      ],
      "execution_count": 17,
      "outputs": [
        {
          "output_type": "execute_result",
          "data": {
            "text/plain": [
              "[17, 14, 21, 21, 24]"
            ]
          },
          "metadata": {
            "tags": []
          },
          "execution_count": 17
        }
      ]
    },
    {
      "cell_type": "code",
      "metadata": {
        "id": "TEbgSpZiAV6e",
        "colab_type": "code",
        "colab": {}
      },
      "source": [
        "train_final_paths = final_paths[ : int(len(final_paths) * 0.90)]\n",
        "train_final_texts = final_texts[ : int(len(final_texts) * 0.90)]\n",
        "\n",
        "val_final_paths = final_paths[int(len(final_paths) * 0.90) : ]\n",
        "val_final_texts = final_texts[int(len(final_texts) * 0.90) : ]"
      ],
      "execution_count": 19,
      "outputs": []
    },
    {
      "cell_type": "code",
      "metadata": {
        "id": "_JUD-0JpAV6g",
        "colab_type": "code",
        "colab": {
          "base_uri": "https://localhost:8080/",
          "height": 34
        },
        "outputId": "8d09919b-310e-46fa-d078-b768c6c8d887"
      },
      "source": [
        "len(train_final_paths), len(val_final_paths)"
      ],
      "execution_count": 20,
      "outputs": [
        {
          "output_type": "execute_result",
          "data": {
            "text/plain": [
              "(47427, 5270)"
            ]
          },
          "metadata": {
            "tags": []
          },
          "execution_count": 20
        }
      ]
    },
    {
      "cell_type": "code",
      "metadata": {
        "id": "-7PMuKJ0AV6j",
        "colab_type": "code",
        "colab": {}
      },
      "source": [
        "max_label_len = max([len(str(text)) for text in final_texts])"
      ],
      "execution_count": 21,
      "outputs": []
    },
    {
      "cell_type": "code",
      "metadata": {
        "id": "bsI10m1p9Ufj",
        "colab_type": "code",
        "colab": {
          "base_uri": "https://localhost:8080/",
          "height": 34
        },
        "outputId": "c9152211-3b05-4a10-cf2e-12ba5b340025"
      },
      "source": [
        "max_label_len"
      ],
      "execution_count": 22,
      "outputs": [
        {
          "output_type": "execute_result",
          "data": {
            "text/plain": [
              "23"
            ]
          },
          "metadata": {
            "tags": []
          },
          "execution_count": 22
        }
      ]
    },
    {
      "cell_type": "code",
      "metadata": {
        "id": "cQoif0EDAV6l",
        "colab_type": "code",
        "colab": {}
      },
      "source": [
        "class My_Generator(Sequence):\n",
        "    \n",
        "    def __init__(self, image_filenames, labels, batch_size):\n",
        "        self.image_filenames, self.labels = image_filenames, labels\n",
        "        self.batch_size = batch_size\n",
        "\n",
        "    def __len__(self):\n",
        "        return int(np.ceil(len(self.image_filenames) / float(self.batch_size)))\n",
        "\n",
        "    def __getitem__(self, idx):\n",
        "        \n",
        "        batch_paths = self.image_filenames[idx * self.batch_size:(idx + 1) * self.batch_size]\n",
        "        batch_texts = self.labels[idx * self.batch_size:(idx + 1) * self.batch_size]\n",
        "        \n",
        "        images = []\n",
        "        training_txt = []\n",
        "        train_label_length = []\n",
        "        train_input_length = []\n",
        "\n",
        "        for im_path, text in zip(batch_paths, batch_texts):\n",
        "            \n",
        "            try:\n",
        "                text = str(text).strip()\n",
        "                img = cv2.cvtColor(cv2.imread(im_path), cv2.COLOR_BGR2GRAY)   \n",
        "\n",
        "                ### actually returns h, w\n",
        "                h, w = img.shape\n",
        "\n",
        "                ### if height less than 32\n",
        "                if h < 32:\n",
        "                    add_zeros = np.ones((32-h, w)) * 255\n",
        "                    img = np.concatenate((img, add_zeros))\n",
        "                    h = 32\n",
        "\n",
        "                ## if width less than 128\n",
        "                if w < 128:\n",
        "                    add_zeros = np.ones((h, 128-w)) * 255\n",
        "                    img = np.concatenate((img, add_zeros), axis=1)\n",
        "                    w = 128\n",
        "\n",
        "                ### if width is greater than 128 or height greater than 32\n",
        "                if w > 128 or h > 32:\n",
        "                    img = cv2.resize(img, (128, 32))\n",
        "\n",
        "                img = np.expand_dims(img , axis = 2)\n",
        "\n",
        "                # Normalize each image\n",
        "                img = img / 255.\n",
        "\n",
        "                images.append(img)\n",
        "                training_txt.append(encode_to_labels(text))\n",
        "                train_label_length.append(len(text))\n",
        "                train_input_length.append(31)\n",
        "            except:\n",
        "                \n",
        "                pass\n",
        "\n",
        "        return [np.array(images), \n",
        "               pad_sequences(training_txt, maxlen=max_label_len, padding='post', value=len(char_list)), \n",
        "               np.array(train_input_length), \n",
        "               np.array(train_label_length)], np.zeros(len(images))"
      ],
      "execution_count": 34,
      "outputs": []
    },
    {
      "cell_type": "code",
      "metadata": {
        "id": "EV4D0xFtAV6o",
        "colab_type": "code",
        "colab": {
          "base_uri": "https://localhost:8080/",
          "height": 34
        },
        "outputId": "91486932-c95c-4a29-8dc5-3beefbe4e10e"
      },
      "source": [
        "train_final_paths[:1], train_final_texts[:1]"
      ],
      "execution_count": 35,
      "outputs": [
        {
          "output_type": "execute_result",
          "data": {
            "text/plain": [
              "(['mjsynth_sample/459_loyalties_45457.jpg'], ['loyalties'])"
            ]
          },
          "metadata": {
            "tags": []
          },
          "execution_count": 35
        }
      ]
    },
    {
      "cell_type": "code",
      "metadata": {
        "id": "r3BduQiCZbei",
        "colab_type": "code",
        "colab": {
          "base_uri": "https://localhost:8080/",
          "height": 357
        },
        "outputId": "4525b5a2-0a8a-4eba-8321-c45fba76f5e7"
      },
      "source": [
        "!nvidia-smi"
      ],
      "execution_count": 36,
      "outputs": [
        {
          "output_type": "stream",
          "text": [
            "Thu Jun 25 16:57:14 2020       \n",
            "+-----------------------------------------------------------------------------+\n",
            "| NVIDIA-SMI 450.36.06    Driver Version: 418.67       CUDA Version: 10.1     |\n",
            "|-------------------------------+----------------------+----------------------+\n",
            "| GPU  Name        Persistence-M| Bus-Id        Disp.A | Volatile Uncorr. ECC |\n",
            "| Fan  Temp  Perf  Pwr:Usage/Cap|         Memory-Usage | GPU-Util  Compute M. |\n",
            "|                               |                      |               MIG M. |\n",
            "|===============================+======================+======================|\n",
            "|   0  Tesla K80           Off  | 00000000:00:04.0 Off |                    0 |\n",
            "| N/A   72C    P0    72W / 149W |   4665MiB / 11441MiB |      0%      Default |\n",
            "|                               |                      |                 ERR! |\n",
            "+-------------------------------+----------------------+----------------------+\n",
            "                                                                               \n",
            "+-----------------------------------------------------------------------------+\n",
            "| Processes:                                                                  |\n",
            "|  GPU   GI   CI        PID   Type   Process name                  GPU Memory |\n",
            "|        ID   ID                                                   Usage      |\n",
            "|=============================================================================|\n",
            "|  No running processes found                                                 |\n",
            "+-----------------------------------------------------------------------------+\n"
          ],
          "name": "stdout"
        }
      ]
    },
    {
      "cell_type": "code",
      "metadata": {
        "id": "MsVGYWb0AV6s",
        "colab_type": "code",
        "colab": {}
      },
      "source": [
        "batch_size = 256\n",
        "train_generator = My_Generator(train_final_paths, train_final_texts, batch_size)\n",
        "val_generator = My_Generator(val_final_paths, val_final_texts, batch_size)"
      ],
      "execution_count": 37,
      "outputs": []
    },
    {
      "cell_type": "code",
      "metadata": {
        "id": "zeN-LJBoAV6u",
        "colab_type": "code",
        "colab": {}
      },
      "source": [
        "# input with shape of height=32 and width=128 \n",
        "inputs = Input(shape=(32, 128, 1))\n",
        "\n",
        "conv_1 = Conv2D(16, (3,3), activation = 'relu', padding='same')(inputs)\n",
        "pool_1 = MaxPool2D(pool_size=(2, 2), strides=2)(conv_1)\n",
        " \n",
        "conv_2 = Conv2D(32, (3,3), activation = 'relu', padding='same')(pool_1)\n",
        "pool_2 = MaxPool2D(pool_size=(2, 2), strides=2)(conv_2)\n",
        "\n",
        "conv_3 = Conv2D(64, (3,3), activation = 'relu', padding='same')(pool_2)\n",
        "conv_4 = Conv2D(64, (3,3), activation = 'relu', padding='same')(conv_3)\n",
        "pool_4 = MaxPool2D(pool_size=(2, 1))(conv_4)\n",
        " \n",
        "conv_5 = Conv2D(64, (3,3), activation = 'relu', padding='same')(pool_4)\n",
        "# Batch normalization layer\n",
        "batch_norm_5 = BatchNormalization()(conv_5)\n",
        " \n",
        "conv_6 = Conv2D(64, (3,3), activation = 'relu', padding='same')(batch_norm_5)\n",
        "batch_norm_6 = BatchNormalization()(conv_6)\n",
        "pool_6 = MaxPool2D(pool_size=(2, 1))(batch_norm_6)\n",
        " \n",
        "conv_7 = Conv2D(64, (2,2), activation = 'relu')(pool_6)\n",
        " \n",
        "squeezed = Lambda(lambda x: K.squeeze(x, 1))(conv_7)\n",
        " \n",
        "# bidirectional LSTM layers with units=128\n",
        "blstm_1 = Bidirectional(CuDNNLSTM(128, return_sequences=True))(squeezed)\n",
        "blstm_2 = Bidirectional(CuDNNLSTM(128, return_sequences=True))(blstm_1)\n",
        "\n",
        "outputs = Dense(len(char_list) + 1, activation = 'softmax')(blstm_2)\n",
        "\n",
        "# model to be used at test time\n",
        "act_model = Model(inputs, outputs)"
      ],
      "execution_count": 38,
      "outputs": []
    },
    {
      "cell_type": "code",
      "metadata": {
        "id": "vp6vRoV4AV6w",
        "colab_type": "code",
        "colab": {
          "base_uri": "https://localhost:8080/",
          "height": 765
        },
        "outputId": "42f465a5-26a8-461c-df27-1ecd5dc4acc7"
      },
      "source": [
        "act_model.summary()"
      ],
      "execution_count": 39,
      "outputs": [
        {
          "output_type": "stream",
          "text": [
            "Model: \"model_3\"\n",
            "_________________________________________________________________\n",
            "Layer (type)                 Output Shape              Param #   \n",
            "=================================================================\n",
            "input_3 (InputLayer)         [(None, 32, 128, 1)]      0         \n",
            "_________________________________________________________________\n",
            "conv2d_14 (Conv2D)           (None, 32, 128, 16)       160       \n",
            "_________________________________________________________________\n",
            "max_pooling2d_8 (MaxPooling2 (None, 16, 64, 16)        0         \n",
            "_________________________________________________________________\n",
            "conv2d_15 (Conv2D)           (None, 16, 64, 32)        4640      \n",
            "_________________________________________________________________\n",
            "max_pooling2d_9 (MaxPooling2 (None, 8, 32, 32)         0         \n",
            "_________________________________________________________________\n",
            "conv2d_16 (Conv2D)           (None, 8, 32, 64)         18496     \n",
            "_________________________________________________________________\n",
            "conv2d_17 (Conv2D)           (None, 8, 32, 64)         36928     \n",
            "_________________________________________________________________\n",
            "max_pooling2d_10 (MaxPooling (None, 4, 32, 64)         0         \n",
            "_________________________________________________________________\n",
            "conv2d_18 (Conv2D)           (None, 4, 32, 64)         36928     \n",
            "_________________________________________________________________\n",
            "batch_normalization_4 (Batch (None, 4, 32, 64)         256       \n",
            "_________________________________________________________________\n",
            "conv2d_19 (Conv2D)           (None, 4, 32, 64)         36928     \n",
            "_________________________________________________________________\n",
            "batch_normalization_5 (Batch (None, 4, 32, 64)         256       \n",
            "_________________________________________________________________\n",
            "max_pooling2d_11 (MaxPooling (None, 2, 32, 64)         0         \n",
            "_________________________________________________________________\n",
            "conv2d_20 (Conv2D)           (None, 1, 31, 64)         16448     \n",
            "_________________________________________________________________\n",
            "lambda_2 (Lambda)            (None, 31, 64)            0         \n",
            "_________________________________________________________________\n",
            "bidirectional_3 (Bidirection (None, 31, 256)           198656    \n",
            "_________________________________________________________________\n",
            "bidirectional_4 (Bidirection (None, 31, 256)           395264    \n",
            "_________________________________________________________________\n",
            "dense_2 (Dense)              (None, 31, 63)            16191     \n",
            "=================================================================\n",
            "Total params: 761,151\n",
            "Trainable params: 760,895\n",
            "Non-trainable params: 256\n",
            "_________________________________________________________________\n"
          ],
          "name": "stdout"
        }
      ]
    },
    {
      "cell_type": "code",
      "metadata": {
        "id": "08eV8H54AV6y",
        "colab_type": "code",
        "colab": {}
      },
      "source": [
        "labels = Input(name='the_labels', shape=[max_label_len], dtype='float32')\n",
        "input_length = Input(name='input_length', shape=[1], dtype='int64')\n",
        "label_length = Input(name='label_length', shape=[1], dtype='int64')\n",
        "\n",
        "def ctc_lambda_func(args):\n",
        "    y_pred, labels, input_length, label_length = args \n",
        "    return K.ctc_batch_cost(labels, y_pred, input_length, label_length)\n",
        " \n",
        "loss_out = Lambda(ctc_lambda_func, \n",
        "                  output_shape=(1,), \n",
        "                  name='ctc')([outputs, labels, input_length, label_length])\n",
        "\n",
        "#model to be used at training time\n",
        "model = Model(inputs=[inputs, labels, input_length, label_length], outputs=loss_out)"
      ],
      "execution_count": 40,
      "outputs": []
    },
    {
      "cell_type": "code",
      "metadata": {
        "id": "RiGnMMKuAV60",
        "colab_type": "code",
        "colab": {}
      },
      "source": [
        "file_path = \"C_LSTM_best.hdf5\"\n",
        "\n",
        "model.compile(loss={'ctc': lambda y_true, y_pred: y_pred}, optimizer = 'adam')\n",
        "\n",
        "\n",
        "checkpoint = ModelCheckpoint(filepath=file_path, \n",
        "                             monitor='val_loss', \n",
        "                             verbose=1, \n",
        "                             save_best_only=True, \n",
        "                             mode='min')\n",
        "\n",
        "callbacks_list = [checkpoint]"
      ],
      "execution_count": 41,
      "outputs": []
    },
    {
      "cell_type": "code",
      "metadata": {
        "scrolled": true,
        "id": "P-gsqkzoAV62",
        "colab_type": "code",
        "colab": {
          "base_uri": "https://localhost:8080/",
          "height": 1000
        },
        "outputId": "b5b6e8a8-eabc-4e0a-ea54-a3cf299f5ecd"
      },
      "source": [
        "epochs = 20\n",
        "\n",
        "history = model.fit(train_generator, \n",
        "                    epochs = epochs,\n",
        "                    steps_per_epoch = len(train_final_paths) // batch_size,\n",
        "                    validation_data=val_generator,\n",
        "                    validation_steps = len(val_final_paths) // batch_size,\n",
        "                    verbose = 1,\n",
        "                    callbacks = callbacks_list,\n",
        "                    shuffle=True)"
      ],
      "execution_count": 43,
      "outputs": [
        {
          "output_type": "stream",
          "text": [
            "Epoch 1/20\n",
            "185/185 [==============================] - ETA: 0s - loss: 12.0445\n",
            "Epoch 00001: val_loss improved from 22.89446 to 10.15159, saving model to C_LSTM_best.hdf5\n",
            "185/185 [==============================] - 62s 333ms/step - loss: 12.0445 - val_loss: 10.1516\n",
            "Epoch 2/20\n",
            "185/185 [==============================] - ETA: 0s - loss: 8.2928\n",
            "Epoch 00002: val_loss improved from 10.15159 to 8.07728, saving model to C_LSTM_best.hdf5\n",
            "185/185 [==============================] - 62s 334ms/step - loss: 8.2928 - val_loss: 8.0773\n",
            "Epoch 3/20\n",
            "185/185 [==============================] - ETA: 0s - loss: 6.7348\n",
            "Epoch 00003: val_loss improved from 8.07728 to 7.10487, saving model to C_LSTM_best.hdf5\n",
            "185/185 [==============================] - 62s 335ms/step - loss: 6.7348 - val_loss: 7.1049\n",
            "Epoch 4/20\n",
            "185/185 [==============================] - ETA: 0s - loss: 5.9091\n",
            "Epoch 00004: val_loss improved from 7.10487 to 6.31429, saving model to C_LSTM_best.hdf5\n",
            "185/185 [==============================] - 62s 333ms/step - loss: 5.9091 - val_loss: 6.3143\n",
            "Epoch 5/20\n",
            "185/185 [==============================] - ETA: 0s - loss: 5.3134\n",
            "Epoch 00005: val_loss improved from 6.31429 to 5.84022, saving model to C_LSTM_best.hdf5\n",
            "185/185 [==============================] - 62s 333ms/step - loss: 5.3134 - val_loss: 5.8402\n",
            "Epoch 6/20\n",
            "185/185 [==============================] - ETA: 0s - loss: 4.8348\n",
            "Epoch 00006: val_loss improved from 5.84022 to 5.83548, saving model to C_LSTM_best.hdf5\n",
            "185/185 [==============================] - 62s 333ms/step - loss: 4.8348 - val_loss: 5.8355\n",
            "Epoch 7/20\n",
            "185/185 [==============================] - ETA: 0s - loss: 4.4866\n",
            "Epoch 00007: val_loss improved from 5.83548 to 5.49891, saving model to C_LSTM_best.hdf5\n",
            "185/185 [==============================] - 63s 340ms/step - loss: 4.4866 - val_loss: 5.4989\n",
            "Epoch 8/20\n",
            "185/185 [==============================] - ETA: 0s - loss: 4.1722\n",
            "Epoch 00008: val_loss improved from 5.49891 to 5.36147, saving model to C_LSTM_best.hdf5\n",
            "185/185 [==============================] - 63s 341ms/step - loss: 4.1722 - val_loss: 5.3615\n",
            "Epoch 9/20\n",
            "185/185 [==============================] - ETA: 0s - loss: 3.8920\n",
            "Epoch 00009: val_loss did not improve from 5.36147\n",
            "185/185 [==============================] - 63s 341ms/step - loss: 3.8920 - val_loss: 5.4437\n",
            "Epoch 10/20\n",
            "185/185 [==============================] - ETA: 0s - loss: 3.6984\n",
            "Epoch 00010: val_loss improved from 5.36147 to 5.32026, saving model to C_LSTM_best.hdf5\n",
            "185/185 [==============================] - 63s 339ms/step - loss: 3.6984 - val_loss: 5.3203\n",
            "Epoch 11/20\n",
            "185/185 [==============================] - ETA: 0s - loss: 3.4805\n",
            "Epoch 00011: val_loss improved from 5.32026 to 5.08213, saving model to C_LSTM_best.hdf5\n",
            "185/185 [==============================] - 62s 337ms/step - loss: 3.4805 - val_loss: 5.0821\n",
            "Epoch 12/20\n",
            "185/185 [==============================] - ETA: 0s - loss: 3.2759\n",
            "Epoch 00012: val_loss improved from 5.08213 to 4.90840, saving model to C_LSTM_best.hdf5\n",
            "185/185 [==============================] - 62s 336ms/step - loss: 3.2759 - val_loss: 4.9084\n",
            "Epoch 13/20\n",
            "185/185 [==============================] - ETA: 0s - loss: 3.0908\n",
            "Epoch 00013: val_loss did not improve from 4.90840\n",
            "185/185 [==============================] - 62s 338ms/step - loss: 3.0908 - val_loss: 5.1329\n",
            "Epoch 14/20\n",
            "185/185 [==============================] - ETA: 0s - loss: 2.9666\n",
            "Epoch 00014: val_loss did not improve from 4.90840\n",
            "185/185 [==============================] - 62s 335ms/step - loss: 2.9666 - val_loss: 5.0559\n",
            "Epoch 15/20\n",
            "185/185 [==============================] - ETA: 0s - loss: 2.8567\n",
            "Epoch 00015: val_loss did not improve from 4.90840\n",
            "185/185 [==============================] - 63s 339ms/step - loss: 2.8567 - val_loss: 5.0874\n",
            "Epoch 16/20\n",
            "185/185 [==============================] - ETA: 0s - loss: 2.5766\n",
            "Epoch 00016: val_loss did not improve from 4.90840\n",
            "185/185 [==============================] - 63s 338ms/step - loss: 2.5766 - val_loss: 5.0566\n",
            "Epoch 17/20\n",
            "185/185 [==============================] - ETA: 0s - loss: 2.5282\n",
            "Epoch 00017: val_loss did not improve from 4.90840\n",
            "185/185 [==============================] - 62s 337ms/step - loss: 2.5282 - val_loss: 4.9398\n",
            "Epoch 18/20\n",
            "185/185 [==============================] - ETA: 0s - loss: 2.4768\n",
            "Epoch 00018: val_loss did not improve from 4.90840\n",
            "185/185 [==============================] - 63s 340ms/step - loss: 2.4768 - val_loss: 5.0134\n",
            "Epoch 19/20\n",
            "185/185 [==============================] - ETA: 0s - loss: 2.2867\n",
            "Epoch 00019: val_loss did not improve from 4.90840\n",
            "185/185 [==============================] - 62s 337ms/step - loss: 2.2867 - val_loss: 5.2031\n",
            "Epoch 20/20\n",
            "185/185 [==============================] - ETA: 0s - loss: 2.4280\n",
            "Epoch 00020: val_loss did not improve from 4.90840\n",
            "185/185 [==============================] - 62s 338ms/step - loss: 2.4280 - val_loss: 5.1024\n"
          ],
          "name": "stdout"
        }
      ]
    },
    {
      "cell_type": "code",
      "metadata": {
        "id": "2Luf5WtwAV64",
        "colab_type": "code",
        "colab": {
          "base_uri": "https://localhost:8080/",
          "height": 295
        },
        "outputId": "13eaa263-3d5e-45df-e773-028430e0052e"
      },
      "source": [
        "plt.plot(history.history['loss'])\n",
        "plt.plot(history.history['val_loss'])\n",
        "plt.title('model loss')\n",
        "plt.ylabel('loss')\n",
        "plt.xlabel('epoch')\n",
        "plt.legend(['train', 'test'], loc='upper left')\n",
        "plt.show()"
      ],
      "execution_count": 44,
      "outputs": [
        {
          "output_type": "display_data",
          "data": {
            "image/png": "[encoded data removed]",
            "text/plain": [
              "<Figure size 432x288 with 1 Axes>"
            ]
          },
          "metadata": {
            "tags": [],
            "needs_background": "light"
          }
        }
      ]
    },
    {
      "cell_type": "code",
      "metadata": {
        "id": "QhmP1lgvAV66",
        "colab_type": "code",
        "colab": {}
      },
      "source": [
        "def pre_process_image(path):\n",
        "    \n",
        "    img = cv2.cvtColor(cv2.imread(path), cv2.COLOR_BGR2GRAY)\n",
        "    ### actually returns h, w\n",
        "    h, w = img.shape\n",
        "\n",
        "    ### if height less than 32\n",
        "    if h < 32:\n",
        "        add_zeros = np.ones((32-h, w)) * 255\n",
        "        img = np.concatenate((img, add_zeros))\n",
        "        h = 32\n",
        "\n",
        "    ## if width less than 128\n",
        "    if w < 128:\n",
        "        add_zeros = np.ones((h, 128-w)) * 255\n",
        "        img = np.concatenate((img, add_zeros), axis=1)\n",
        "        w = 128\n",
        "\n",
        "    ### if width is greater than 128 or height greater than 32\n",
        "    if w > 128 or h > 32:\n",
        "        img = cv2.resize(img, (128, 32))\n",
        "\n",
        "    \n",
        "    img = np.expand_dims(img , axis = 2)\n",
        "\n",
        "    # Normalize each image\n",
        "    img = img / 255.\n",
        "    \n",
        "    return img"
      ],
      "execution_count": 45,
      "outputs": []
    },
    {
      "cell_type": "code",
      "metadata": {
        "id": "a2f72vfOaHAF",
        "colab_type": "code",
        "colab": {}
      },
      "source": [
        "act_model.load_weights('C_LSTM_best.hdf5')"
      ],
      "execution_count": 46,
      "outputs": []
    },
    {
      "cell_type": "code",
      "metadata": {
        "id": "kR2UGf7gAV68",
        "colab_type": "code",
        "colab": {}
      },
      "source": [
        "def predict_output(img):\n",
        "    # predict outputs on validation images\n",
        "    prediction = act_model.predict(np.array([img]))\n",
        "    ## shape (batch_size, num_timesteps, vocab_size)\n",
        "\n",
        "    # use CTC decoder\n",
        "    out = K.get_value(K.ctc_decode(prediction, \n",
        "                                   input_length=np.ones(prediction.shape[0]) * prediction.shape[1],\n",
        "                                   greedy=True)[0][0])\n",
        "\n",
        "    ## get the final text    \n",
        "    for x in out:\n",
        "\n",
        "        print(\"predicted text = \", end = '')\n",
        "\n",
        "        for p in x:\n",
        "\n",
        "            if int(p) != -1:\n",
        "                print(char_list[int(p)], end = '')\n",
        "        \n",
        "        print('\\n')"
      ],
      "execution_count": 68,
      "outputs": []
    },
    {
      "cell_type": "code",
      "metadata": {
        "id": "du00BfeBg7Nw",
        "colab_type": "code",
        "colab": {
          "base_uri": "https://localhost:8080/",
          "height": 1000
        },
        "outputId": "731ddfbb-151c-4a81-ac16-8805a15c970b"
      },
      "source": [
        "from IPython.display import display\n",
        "from random import randrange\n",
        "\n",
        "for i in range(10):\n",
        "    index = randrange(len(val_final_paths))\n",
        "    im = Image.open(val_final_paths[index])\n",
        "    display(im)\n",
        "\n",
        "    print(\"\\n\")\n",
        "\n",
        "    test_img = pre_process_image(val_final_paths[index])\n",
        "    predict_output(test_img)\n"
      ],
      "execution_count": 69,
      "outputs": [
        {
          "output_type": "display_data",
          "data": {
            "image/png": "[encoded data removed]",
            "text/plain": [
              "<PIL.JpegImagePlugin.JpegImageFile image mode=RGB size=99x31 at 0x7F363C3E2438>"
            ]
          },
          "metadata": {
            "tags": []
          }
        },
        {
          "output_type": "stream",
          "text": [
            "\n",
            "\n",
            "predicted text = gregarious\n",
            "\n"
          ],
          "name": "stdout"
        },
        {
          "output_type": "display_data",
          "data": {
            "image/png": "[encoded data removed]",
            "text/plain": [
              "<PIL.JpegImagePlugin.JpegImageFile image mode=RGB size=191x31 at 0x7F363E7A2BE0>"
            ]
          },
          "metadata": {
            "tags": []
          }
        },
        {
          "output_type": "stream",
          "text": [
            "\n",
            "\n",
            "predicted text = Minnesotan\n",
            "\n"
          ],
          "name": "stdout"
        },
        {
          "output_type": "display_data",
          "data": {
            "image/png": "[encoded data removed]",
            "text/plain": [
              "<PIL.JpegImagePlugin.JpegImageFile image mode=RGB size=140x31 at 0x7F363C3E2438>"
            ]
          },
          "metadata": {
            "tags": []
          }
        },
        {
          "output_type": "stream",
          "text": [
            "\n",
            "\n",
            "predicted text = COLCBIEN\n",
            "\n"
          ],
          "name": "stdout"
        },
        {
          "output_type": "display_data",
          "data": {
            "image/png": "[encoded data removed]",
            "text/plain": [
              "<PIL.JpegImagePlugin.JpegImageFile image mode=RGB size=120x31 at 0x7F363E6C3128>"
            ]
          },
          "metadata": {
            "tags": []
          }
        },
        {
          "output_type": "stream",
          "text": [
            "\n",
            "\n",
            "predicted text = GUARANTES\n",
            "\n"
          ],
          "name": "stdout"
        },
        {
          "output_type": "display_data",
          "data": {
            "image/png": "[encoded data removed]",
            "text/plain": [
              "<PIL.JpegImagePlugin.JpegImageFile image mode=RGB size=155x31 at 0x7F363E6C39B0>"
            ]
          },
          "metadata": {
            "tags": []
          }
        },
        {
          "output_type": "stream",
          "text": [
            "\n",
            "\n",
            "predicted text = pigeonhole\n",
            "\n"
          ],
          "name": "stdout"
        },
        {
          "output_type": "display_data",
          "data": {
            "image/png": "[encoded data removed]",
            "text/plain": [
              "<PIL.JpegImagePlugin.JpegImageFile image mode=RGB size=58x31 at 0x7F363E61CDD8>"
            ]
          },
          "metadata": {
            "tags": []
          }
        },
        {
          "output_type": "stream",
          "text": [
            "\n",
            "\n",
            "predicted text = chler\n",
            "\n"
          ],
          "name": "stdout"
        },
        {
          "output_type": "display_data",
          "data": {
            "image/png": "[encoded data removed]",
            "text/plain": [
              "<PIL.JpegImagePlugin.JpegImageFile image mode=RGB size=171x31 at 0x7F363E6C3470>"
            ]
          },
          "metadata": {
            "tags": []
          }
        },
        {
          "output_type": "stream",
          "text": [
            "\n",
            "\n",
            "predicted text = rhizomes\n",
            "\n"
          ],
          "name": "stdout"
        },
        {
          "output_type": "display_data",
          "data": {
            "image/png": "[encoded data removed]",
            "text/plain": [
              "<PIL.JpegImagePlugin.JpegImageFile image mode=RGB size=106x31 at 0x7F363E7BB128>"
            ]
          },
          "metadata": {
            "tags": []
          }
        },
        {
          "output_type": "stream",
          "text": [
            "\n",
            "\n",
            "predicted text = citronella\n",
            "\n"
          ],
          "name": "stdout"
        },
        {
          "output_type": "display_data",
          "data": {
            "image/png": "[encoded data removed]",
            "text/plain": [
              "<PIL.JpegImagePlugin.JpegImageFile image mode=RGB size=86x31 at 0x7F363E6C3470>"
            ]
          },
          "metadata": {
            "tags": []
          }
        },
        {
          "output_type": "stream",
          "text": [
            "\n",
            "\n",
            "predicted text = Pordliest\n",
            "\n"
          ],
          "name": "stdout"
        },
        {
          "output_type": "display_data",
          "data": {
            "image/png": "[encoded data removed]",
            "text/plain": [
              "<PIL.JpegImagePlugin.JpegImageFile image mode=RGB size=118x31 at 0x7F363E772278>"
            ]
          },
          "metadata": {
            "tags": []
          }
        },
        {
          "output_type": "stream",
          "text": [
            "\n",
            "\n",
            "predicted text = SAWING\n",
            "\n"
          ],
          "name": "stdout"
        }
      ]
    },
    {
      "cell_type": "code",
      "metadata": {
        "id": "gt7LDgxoaw3Y",
        "colab_type": "code",
        "colab": {}
      },
      "source": [
        "## results can be improved with finetuning and including more data :)"
      ],
      "execution_count": null,
      "outputs": []
    }
  ]
}